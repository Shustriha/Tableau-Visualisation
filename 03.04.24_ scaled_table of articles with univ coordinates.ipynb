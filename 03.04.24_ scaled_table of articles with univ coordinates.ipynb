{
 "cells": [
  {
   "cell_type": "code",
   "execution_count": 1,
   "id": "9e76cc48",
   "metadata": {},
   "outputs": [],
   "source": [
    "un_info_table =[('Tensor network simulations for non-orientable surfaces', 'https://arxiv.org/pdf/2402.15507', ['Institute for Solid State Physics, University of Tokyo, Kashiwa 277-8581, Japan']), ('Entanglement-assisted classical capacities of some channels acting as radial multipliers on fermion algebras', 'https://arxiv.org/pdf/2402.15440', ['6 rue Didier Daurat, 81000 Albi, France']), ('A Quantum-Classical Collaborative Training Architecture Based on Quantum State Fidelity', 'https://arxiv.org/pdf/2402.15333', ['Computer and Information Science Department, Fordham University, New York, USA', ' Pacific Northwest National Laboratory, Richland, WA, USA', 'Brookhaven National Laboratory, Upton, NY, USA', 'IBM Research, Yorktown Heights, NY, USA']), ('Traversable wormholes satisfying energy conditions in $f(Q)$ gravity', 'https://arxiv.org/pdf/2402.15178', ['Physics Department , Sirjan University of Technology, Sirjan 78137, Iran']), ('Energy Extraction via Magnetic Reconnection in Konoplya-Rezzolla-Zhidenko Parameterized Black Holes', 'https://arxiv.org/pdf/2402.15050', ['Institute for Theoretical Physics and Cosmology, Zhejiang University of Technology, China', 'United Center for Gravitational Wave Physics, Zhejiang University of Technology, Hangzhou 310032, China']), ('The Stability of Gapped Quantum Matter and Error-Correction with Adiabatic Noise', 'https://arxiv.org/pdf/2402.14906', ['Kavli Institute for Theoretical Physics, Santa Barbara, CA 93106, USA', 'Department of Physics, University of California, Santa Barbara, CA 93106, USA']), ('Useful variants and perturbations of completely entangled subspaces and spans of unextendible product bases', 'https://arxiv.org/pdf/2402.14697', ['Department of Mathematical Sciences, Indian Institute of Science Education & Research (IISER) Berhampur, Transit campus, Berhampur 760 010, Ganjam, Odisha, India', 'Emeritus Scientist, Indian National Science Academy, Bahadur Shah Zafar Marg, New Delhi, 110 002, India']), ('A Quick Introduction to Quantum Machine Learning for Non-Practitioners', 'https://arxiv.org/pdf/2402.14694', ['Naval Surface Warfare Center Panama City Division']), ('Dynamical quantum maps for single-qubit gates under non-Markovian phase noise', 'https://arxiv.org/pdf/2402.14530', ['Instituto de F ́ısica Teo ́rica UAM-CSIC, Universidad Auto ́noma de Madrid, Cantoblanco, 28049, Madrid, Spain', 'Universita ̈t Innsbruck, Institut fu ̈r Experimentalphysik, Innsbruck, Austria']), ('Spectral invariance and maximality properties of the frequency spectrum of quantum neural networks', 'https://arxiv.org/pdf/2402.14515', ['Fraunhofer Institute for Industrial Mathematics ITWM, Department for Financial Mathematics Fraunhofer-Platz 1, 67663 Kaiserslautern, Germany']), ('Solving Maxwells Equations using Variational Quantum Imaginary Time Evolution', 'https://arxiv.org/pdf/2402.14156', ['Integrated Vehicle Systems, Applied Mathematics Boeing Research & Technology Huntington Beach, CA, 92647, USA', 'Integrated Vehicle Systems, Applied Mathematics Boeing Research & Technology Huntsville, AL, 35824, USA']), ('Carrollian Amplitudes from Strings', 'https://arxiv.org/pdf/2402.14062', ['Max–Planck–Institut für Physik, Werner–Heisenberg–Institut, 85748 Garching, Germany', 'Kavli Institute for Theoretical Physics, Santa Barbara, CA 93106, USA', 'Department of Physics, Northeastern University, Boston, MA 02115, USA', 'Faculty of Physics, University of Warsaw, ul. Pasteura 5, 02-093 Warsaw, Poland', 'School of Mathematics and Maxwell Institute for Mathematical Sciences, University of Edinburgh, UK']), ('How to fault-tolerantly realize any quantum circuit with local operations', 'https://arxiv.org/pdf/2402.13863', ['School of Computation, Information and Technology, Technical University of Munich', 'Munich Center for Quantum Science and Technology (MCQST), Munich, Germany']), ('Reinforcement learning-assisted quantum architecture search for variational quantum algorithms', 'https://arxiv.org/pdf/2402.13754', ['Institute of Theoretical and Applied Informatics, Polish Academy of Sciences']), ('Mutual information scrambling in Ising spin chain', 'https://arxiv.org/pdf/2402.13558', ['School of Physics, University of Hyderabad, Gachibowli 500046 Telangana', 'Vrije Universiteit Brussel, Brussels 1050 Belgium', 'Department of Mathematical Sciences, University of Copenhagen, 2100 Copenhagen, Denmark']), ('Avoiding barren plateaus via Gaussian Mixture Model', 'https://arxiv.org/pdf/2402.13501', ['Institute of Mathematics, Academy of Mathematics and Systems Science, Chinese Academy of Sciences, Beijing 100190, China', 'School of Mathematical Sciences, University of Chinese Academy of Sciences, Beijing 100049, China', 'NCMIS, MDIS, Academy of Mathematics and Systems Science, Chinese Academy of Sciences, Beijing, 100190,China']), ('KetGPT - Dataset Augmentation of Quantum Circuits using Transformers', 'https://arxiv.org/pdf/2402.13352', ['Quantum Machine Learning group, QuTech, Department of Quantum Computer Engineering, Delft University of Technology, The Netherlands']), ('Generalizing measurement-induced phase transitions to information exchange symmetry breaking', 'https://arxiv.org/pdf/2402.13271', ['Mani L. Bhaumik Institute for Theoretical Physics, Department of Physics and Astronomy, University of California at Los Angeles, Los Angeles, CA 90095', 'Institute for Physics, Johannes Gutenberg University of Mainz, D-55099 Mainz, Germany']), ('An exact stationary axisymmetric vacuum solution within a metric--affine bumblebee gravity', 'https://arxiv.org/pdf/2402.13014', ['Departamento de F ́ısica, Universidade Federal da Para ́ıba, Caixa Postal 5008, 58051-970, Jo ̃ao Pessoa, Para ́ıba, Brazil.']), ('Quantum Embedding with Transformer for High-dimensional Data', 'https://arxiv.org/pdf/2402.12704', ['Nan']), ('Accretion discs onto supermassive compact objects: a portal to dark matter physics in active galaxies', 'https://arxiv.org/pdf/2402.12491', ['Departamento de Física, Facultad de Ciencias Exactas y Naturales, Universidad de Buenos Aires, Pabellón I, Ciudad Universitaria,Buenos Aires, Argentina', 'ICRANet, Piazza della Repubblica 10, 65122 Pescara, Italy', 'Instituto de Astrofísica de La Plata, UNLP & CONICET, Paseo del Bosque, B1900FWA La Plata, Argentina', 'Instituto Argentino de Radioastronomía (IAR, CONICET/CIC/UNLP), C.C.5, (1894) Villa Elisa, Buenos Aires, Argentina', 'Fac. de Ciencias Astron. y Geofísicas, Universidad Nacional de La Plata, Paseo del Bosque, B1900FWA La Plata, Argentina']), ('Exact black holes in string-inspired Euler-Heisenberg theory', 'https://arxiv.org/pdf/2402.12459', ['Physics Division, School of Applied Mathematical and Physical Sciences, National Technical University of Athens, Zografou Campus, Athens, Greece', 'Theoretical Particle Physics and Cosmology group, Department of Physics, King’s College London, London WC2R 2LS, UK.']), ('A joint optimization approach of parameterized quantum circuits with a tensor network', 'https://arxiv.org/pdf/2402.12105', ['Molecular Quantum Solutions ApS, Maskinvej 5, 2860 Søborg, Denmark']), ('Recent Extensions of the ZKCM Library for Parallel and Accurate MPS Simulation of Quantum Circuits', 'https://arxiv.org/pdf/2402.11868', ['Department of Computer and Information Sciences, Sojo University, 4-22-1 Ikeda, Nishi-ku, Kumamoto, Kumamoto 860-0082, Japan']), ('Photoelectron Polarization Vortexes in Strong-Field Ionization', 'https://arxiv.org/pdf/2402.11825', ['Max-Planck-Institut fu ̈r Kernphysik, Saupfercheckweg 1, 69117 Heidelberg, Germany']), ('From Large to Small $\\\\mathcal{N}=(4,4)$ Superconformal Surface Defects in Holographic 6d SCFTs', 'https://arxiv.org/pdf/2402.11745', ['STAG Research Centre, Physics and Astronomy, University of Southampton, Highfield, Southampton SO17 1BJ, United Kingdom', 'Department of Chemistry and Physics, SUNY Old Westbury, Old Westbury, NY, United States', 'INFN, sezione di Milano-Bicocca, Piazza della Scienza 3, I-20126 Milano, Italy']), ('Evaluating Efficacy of Model Stealing Attacks and Defenses on Quantum Neural Networks', 'https://arxiv.org/pdf/2402.11687', ['The Pennsylvania State University State College, Pennsylvania, USA', 'The Pennsylvania State University State College, Pennsylvania, USA', 'The Pennsylvania State University State College, Pennsylvania, USA']), ('An Efficient Quantum Circuit for Block Encoding a Pairing Hamiltonian', 'https://arxiv.org/pdf/2402.11205', ['Department of Mathematics, University of Minnesota, Twin Cities, MN', 'Department of Physics, Iowa State University of Minnesota, Ames, IA', 'Department of Mathematics, University of California, Berkeley, CA', 'Applied Mathematics and Computational Research Division, Lawrence Berkeley National Laboratory, Berkeley, CA'])]"
   ]
  },
  {
   "cell_type": "code",
   "execution_count": 2,
   "id": "e5a97fc0",
   "metadata": {},
   "outputs": [
    {
     "name": "stdout",
     "output_type": "stream",
     "text": [
      "('Tensor network simulations for non-orientable surfaces', 'https://arxiv.org/pdf/2402.15507', ['Institute for Solid State Physics, University of Tokyo, Kashiwa 277-8581, Japan'])\n",
      "('Entanglement-assisted classical capacities of some channels acting as radial multipliers on fermion algebras', 'https://arxiv.org/pdf/2402.15440', ['6 rue Didier Daurat, 81000 Albi, France'])\n",
      "('A Quantum-Classical Collaborative Training Architecture Based on Quantum State Fidelity', 'https://arxiv.org/pdf/2402.15333', ['Computer and Information Science Department, Fordham University, New York, USA', ' Pacific Northwest National Laboratory, Richland, WA, USA', 'Brookhaven National Laboratory, Upton, NY, USA', 'IBM Research, Yorktown Heights, NY, USA'])\n",
      "('Traversable wormholes satisfying energy conditions in $f(Q)$ gravity', 'https://arxiv.org/pdf/2402.15178', ['Physics Department , Sirjan University of Technology, Sirjan 78137, Iran'])\n",
      "('Energy Extraction via Magnetic Reconnection in Konoplya-Rezzolla-Zhidenko Parameterized Black Holes', 'https://arxiv.org/pdf/2402.15050', ['Institute for Theoretical Physics and Cosmology, Zhejiang University of Technology, China', 'United Center for Gravitational Wave Physics, Zhejiang University of Technology, Hangzhou 310032, China'])\n",
      "('The Stability of Gapped Quantum Matter and Error-Correction with Adiabatic Noise', 'https://arxiv.org/pdf/2402.14906', ['Kavli Institute for Theoretical Physics, Santa Barbara, CA 93106, USA', 'Department of Physics, University of California, Santa Barbara, CA 93106, USA'])\n",
      "('Useful variants and perturbations of completely entangled subspaces and spans of unextendible product bases', 'https://arxiv.org/pdf/2402.14697', ['Department of Mathematical Sciences, Indian Institute of Science Education & Research (IISER) Berhampur, Transit campus, Berhampur 760 010, Ganjam, Odisha, India', 'Emeritus Scientist, Indian National Science Academy, Bahadur Shah Zafar Marg, New Delhi, 110 002, India'])\n",
      "('A Quick Introduction to Quantum Machine Learning for Non-Practitioners', 'https://arxiv.org/pdf/2402.14694', ['Naval Surface Warfare Center Panama City Division'])\n",
      "('Dynamical quantum maps for single-qubit gates under non-Markovian phase noise', 'https://arxiv.org/pdf/2402.14530', ['Instituto de F ́ısica Teo ́rica UAM-CSIC, Universidad Auto ́noma de Madrid, Cantoblanco, 28049, Madrid, Spain', 'Universita ̈t Innsbruck, Institut fu ̈r Experimentalphysik, Innsbruck, Austria'])\n",
      "('Spectral invariance and maximality properties of the frequency spectrum of quantum neural networks', 'https://arxiv.org/pdf/2402.14515', ['Fraunhofer Institute for Industrial Mathematics ITWM, Department for Financial Mathematics Fraunhofer-Platz 1, 67663 Kaiserslautern, Germany'])\n",
      "('Solving Maxwells Equations using Variational Quantum Imaginary Time Evolution', 'https://arxiv.org/pdf/2402.14156', ['Integrated Vehicle Systems, Applied Mathematics Boeing Research & Technology Huntington Beach, CA, 92647, USA', 'Integrated Vehicle Systems, Applied Mathematics Boeing Research & Technology Huntsville, AL, 35824, USA'])\n",
      "('Carrollian Amplitudes from Strings', 'https://arxiv.org/pdf/2402.14062', ['Max–Planck–Institut für Physik, Werner–Heisenberg–Institut, 85748 Garching, Germany', 'Kavli Institute for Theoretical Physics, Santa Barbara, CA 93106, USA', 'Department of Physics, Northeastern University, Boston, MA 02115, USA', 'Faculty of Physics, University of Warsaw, ul. Pasteura 5, 02-093 Warsaw, Poland', 'School of Mathematics and Maxwell Institute for Mathematical Sciences, University of Edinburgh, UK'])\n",
      "('How to fault-tolerantly realize any quantum circuit with local operations', 'https://arxiv.org/pdf/2402.13863', ['School of Computation, Information and Technology, Technical University of Munich', 'Munich Center for Quantum Science and Technology (MCQST), Munich, Germany'])\n",
      "('Reinforcement learning-assisted quantum architecture search for variational quantum algorithms', 'https://arxiv.org/pdf/2402.13754', ['Institute of Theoretical and Applied Informatics, Polish Academy of Sciences'])\n",
      "('Mutual information scrambling in Ising spin chain', 'https://arxiv.org/pdf/2402.13558', ['School of Physics, University of Hyderabad, Gachibowli 500046 Telangana', 'Vrije Universiteit Brussel, Brussels 1050 Belgium', 'Department of Mathematical Sciences, University of Copenhagen, 2100 Copenhagen, Denmark'])\n",
      "('Avoiding barren plateaus via Gaussian Mixture Model', 'https://arxiv.org/pdf/2402.13501', ['Institute of Mathematics, Academy of Mathematics and Systems Science, Chinese Academy of Sciences, Beijing 100190, China', 'School of Mathematical Sciences, University of Chinese Academy of Sciences, Beijing 100049, China', 'NCMIS, MDIS, Academy of Mathematics and Systems Science, Chinese Academy of Sciences, Beijing, 100190,China'])\n",
      "('KetGPT - Dataset Augmentation of Quantum Circuits using Transformers', 'https://arxiv.org/pdf/2402.13352', ['Quantum Machine Learning group, QuTech, Department of Quantum Computer Engineering, Delft University of Technology, The Netherlands'])\n",
      "('Generalizing measurement-induced phase transitions to information exchange symmetry breaking', 'https://arxiv.org/pdf/2402.13271', ['Mani L. Bhaumik Institute for Theoretical Physics, Department of Physics and Astronomy, University of California at Los Angeles, Los Angeles, CA 90095', 'Institute for Physics, Johannes Gutenberg University of Mainz, D-55099 Mainz, Germany'])\n",
      "('An exact stationary axisymmetric vacuum solution within a metric--affine bumblebee gravity', 'https://arxiv.org/pdf/2402.13014', ['Departamento de F ́ısica, Universidade Federal da Para ́ıba, Caixa Postal 5008, 58051-970, Jo ̃ao Pessoa, Para ́ıba, Brazil.'])\n",
      "('Quantum Embedding with Transformer for High-dimensional Data', 'https://arxiv.org/pdf/2402.12704', ['Nan'])\n",
      "('Accretion discs onto supermassive compact objects: a portal to dark matter physics in active galaxies', 'https://arxiv.org/pdf/2402.12491', ['Departamento de Física, Facultad de Ciencias Exactas y Naturales, Universidad de Buenos Aires, Pabellón I, Ciudad Universitaria,Buenos Aires, Argentina', 'ICRANet, Piazza della Repubblica 10, 65122 Pescara, Italy', 'Instituto de Astrofísica de La Plata, UNLP & CONICET, Paseo del Bosque, B1900FWA La Plata, Argentina', 'Instituto Argentino de Radioastronomía (IAR, CONICET/CIC/UNLP), C.C.5, (1894) Villa Elisa, Buenos Aires, Argentina', 'Fac. de Ciencias Astron. y Geofísicas, Universidad Nacional de La Plata, Paseo del Bosque, B1900FWA La Plata, Argentina'])\n",
      "('Exact black holes in string-inspired Euler-Heisenberg theory', 'https://arxiv.org/pdf/2402.12459', ['Physics Division, School of Applied Mathematical and Physical Sciences, National Technical University of Athens, Zografou Campus, Athens, Greece', 'Theoretical Particle Physics and Cosmology group, Department of Physics, King’s College London, London WC2R 2LS, UK.'])\n",
      "('A joint optimization approach of parameterized quantum circuits with a tensor network', 'https://arxiv.org/pdf/2402.12105', ['Molecular Quantum Solutions ApS, Maskinvej 5, 2860 Søborg, Denmark'])\n",
      "('Recent Extensions of the ZKCM Library for Parallel and Accurate MPS Simulation of Quantum Circuits', 'https://arxiv.org/pdf/2402.11868', ['Department of Computer and Information Sciences, Sojo University, 4-22-1 Ikeda, Nishi-ku, Kumamoto, Kumamoto 860-0082, Japan'])\n",
      "('Photoelectron Polarization Vortexes in Strong-Field Ionization', 'https://arxiv.org/pdf/2402.11825', ['Max-Planck-Institut fu ̈r Kernphysik, Saupfercheckweg 1, 69117 Heidelberg, Germany'])\n",
      "('From Large to Small $\\\\mathcal{N}=(4,4)$ Superconformal Surface Defects in Holographic 6d SCFTs', 'https://arxiv.org/pdf/2402.11745', ['STAG Research Centre, Physics and Astronomy, University of Southampton, Highfield, Southampton SO17 1BJ, United Kingdom', 'Department of Chemistry and Physics, SUNY Old Westbury, Old Westbury, NY, United States', 'INFN, sezione di Milano-Bicocca, Piazza della Scienza 3, I-20126 Milano, Italy'])\n",
      "('Evaluating Efficacy of Model Stealing Attacks and Defenses on Quantum Neural Networks', 'https://arxiv.org/pdf/2402.11687', ['The Pennsylvania State University State College, Pennsylvania, USA', 'The Pennsylvania State University State College, Pennsylvania, USA', 'The Pennsylvania State University State College, Pennsylvania, USA'])\n",
      "('An Efficient Quantum Circuit for Block Encoding a Pairing Hamiltonian', 'https://arxiv.org/pdf/2402.11205', ['Department of Mathematics, University of Minnesota, Twin Cities, MN', 'Department of Physics, Iowa State University of Minnesota, Ames, IA', 'Department of Mathematics, University of California, Berkeley, CA', 'Applied Mathematics and Computational Research Division, Lawrence Berkeley National Laboratory, Berkeley, CA'])\n"
     ]
    }
   ],
   "source": [
    "for item in un_info_table:\n",
    "    print(item)"
   ]
  },
  {
   "cell_type": "code",
   "execution_count": 4,
   "id": "b1e731ea",
   "metadata": {},
   "outputs": [
    {
     "name": "stdout",
     "output_type": "stream",
     "text": [
      "28\n"
     ]
    }
   ],
   "source": [
    "print(len(un_info_table))"
   ]
  },
  {
   "cell_type": "code",
   "execution_count": 7,
   "id": "9b009ecd",
   "metadata": {},
   "outputs": [
    {
     "name": "stdout",
     "output_type": "stream",
     "text": [
      "['Tensor network simulations for non-orientable surfaces', ['Institute for Solid State Physics, University of Tokyo, Kashiwa 277-8581, Japan']]\n",
      "\n",
      "['Entanglement-assisted classical capacities of some channels acting as radial multipliers on fermion algebras', ['6 rue Didier Daurat, 81000 Albi, France']]\n",
      "\n",
      "['A Quantum-Classical Collaborative Training Architecture Based on Quantum State Fidelity', ['Computer and Information Science Department, Fordham University, New York, USA', ' Pacific Northwest National Laboratory, Richland, WA, USA', 'Brookhaven National Laboratory, Upton, NY, USA', 'IBM Research, Yorktown Heights, NY, USA']]\n",
      "\n",
      "['Traversable wormholes satisfying energy conditions in $f(Q)$ gravity', ['Physics Department , Sirjan University of Technology, Sirjan 78137, Iran']]\n",
      "\n",
      "['Energy Extraction via Magnetic Reconnection in Konoplya-Rezzolla-Zhidenko Parameterized Black Holes', ['Institute for Theoretical Physics and Cosmology, Zhejiang University of Technology, China', 'United Center for Gravitational Wave Physics, Zhejiang University of Technology, Hangzhou 310032, China']]\n",
      "\n",
      "['The Stability of Gapped Quantum Matter and Error-Correction with Adiabatic Noise', ['Kavli Institute for Theoretical Physics, Santa Barbara, CA 93106, USA', 'Department of Physics, University of California, Santa Barbara, CA 93106, USA']]\n",
      "\n",
      "['Useful variants and perturbations of completely entangled subspaces and spans of unextendible product bases', ['Department of Mathematical Sciences, Indian Institute of Science Education & Research (IISER) Berhampur, Transit campus, Berhampur 760 010, Ganjam, Odisha, India', 'Emeritus Scientist, Indian National Science Academy, Bahadur Shah Zafar Marg, New Delhi, 110 002, India']]\n",
      "\n",
      "['A Quick Introduction to Quantum Machine Learning for Non-Practitioners', ['Naval Surface Warfare Center Panama City Division']]\n",
      "\n",
      "['Dynamical quantum maps for single-qubit gates under non-Markovian phase noise', ['Instituto de F ́ısica Teo ́rica UAM-CSIC, Universidad Auto ́noma de Madrid, Cantoblanco, 28049, Madrid, Spain', 'Universita ̈t Innsbruck, Institut fu ̈r Experimentalphysik, Innsbruck, Austria']]\n",
      "\n",
      "['Spectral invariance and maximality properties of the frequency spectrum of quantum neural networks', ['Fraunhofer Institute for Industrial Mathematics ITWM, Department for Financial Mathematics Fraunhofer-Platz 1, 67663 Kaiserslautern, Germany']]\n",
      "\n",
      "['Solving Maxwells Equations using Variational Quantum Imaginary Time Evolution', ['Integrated Vehicle Systems, Applied Mathematics Boeing Research & Technology Huntington Beach, CA, 92647, USA', 'Integrated Vehicle Systems, Applied Mathematics Boeing Research & Technology Huntsville, AL, 35824, USA']]\n",
      "\n",
      "['Carrollian Amplitudes from Strings', ['Max–Planck–Institut für Physik, Werner–Heisenberg–Institut, 85748 Garching, Germany', 'Kavli Institute for Theoretical Physics, Santa Barbara, CA 93106, USA', 'Department of Physics, Northeastern University, Boston, MA 02115, USA', 'Faculty of Physics, University of Warsaw, ul. Pasteura 5, 02-093 Warsaw, Poland', 'School of Mathematics and Maxwell Institute for Mathematical Sciences, University of Edinburgh, UK']]\n",
      "\n",
      "['How to fault-tolerantly realize any quantum circuit with local operations', ['School of Computation, Information and Technology, Technical University of Munich', 'Munich Center for Quantum Science and Technology (MCQST), Munich, Germany']]\n",
      "\n",
      "['Reinforcement learning-assisted quantum architecture search for variational quantum algorithms', ['Institute of Theoretical and Applied Informatics, Polish Academy of Sciences']]\n",
      "\n",
      "['Mutual information scrambling in Ising spin chain', ['School of Physics, University of Hyderabad, Gachibowli 500046 Telangana', 'Vrije Universiteit Brussel, Brussels 1050 Belgium', 'Department of Mathematical Sciences, University of Copenhagen, 2100 Copenhagen, Denmark']]\n",
      "\n",
      "['Avoiding barren plateaus via Gaussian Mixture Model', ['Institute of Mathematics, Academy of Mathematics and Systems Science, Chinese Academy of Sciences, Beijing 100190, China', 'School of Mathematical Sciences, University of Chinese Academy of Sciences, Beijing 100049, China', 'NCMIS, MDIS, Academy of Mathematics and Systems Science, Chinese Academy of Sciences, Beijing, 100190,China']]\n",
      "\n",
      "['KetGPT - Dataset Augmentation of Quantum Circuits using Transformers', ['Quantum Machine Learning group, QuTech, Department of Quantum Computer Engineering, Delft University of Technology, The Netherlands']]\n",
      "\n",
      "['Generalizing measurement-induced phase transitions to information exchange symmetry breaking', ['Mani L. Bhaumik Institute for Theoretical Physics, Department of Physics and Astronomy, University of California at Los Angeles, Los Angeles, CA 90095', 'Institute for Physics, Johannes Gutenberg University of Mainz, D-55099 Mainz, Germany']]\n",
      "\n",
      "['An exact stationary axisymmetric vacuum solution within a metric--affine bumblebee gravity', ['Departamento de F ́ısica, Universidade Federal da Para ́ıba, Caixa Postal 5008, 58051-970, Jo ̃ao Pessoa, Para ́ıba, Brazil.']]\n",
      "\n",
      "['Quantum Embedding with Transformer for High-dimensional Data', ['Nan']]\n",
      "\n",
      "['Accretion discs onto supermassive compact objects: a portal to dark matter physics in active galaxies', ['Departamento de Física, Facultad de Ciencias Exactas y Naturales, Universidad de Buenos Aires, Pabellón I, Ciudad Universitaria,Buenos Aires, Argentina', 'ICRANet, Piazza della Repubblica 10, 65122 Pescara, Italy', 'Instituto de Astrofísica de La Plata, UNLP & CONICET, Paseo del Bosque, B1900FWA La Plata, Argentina', 'Instituto Argentino de Radioastronomía (IAR, CONICET/CIC/UNLP), C.C.5, (1894) Villa Elisa, Buenos Aires, Argentina', 'Fac. de Ciencias Astron. y Geofísicas, Universidad Nacional de La Plata, Paseo del Bosque, B1900FWA La Plata, Argentina']]\n",
      "\n",
      "['Exact black holes in string-inspired Euler-Heisenberg theory', ['Physics Division, School of Applied Mathematical and Physical Sciences, National Technical University of Athens, Zografou Campus, Athens, Greece', 'Theoretical Particle Physics and Cosmology group, Department of Physics, King’s College London, London WC2R 2LS, UK.']]\n",
      "\n",
      "['A joint optimization approach of parameterized quantum circuits with a tensor network', ['Molecular Quantum Solutions ApS, Maskinvej 5, 2860 Søborg, Denmark']]\n",
      "\n",
      "['Recent Extensions of the ZKCM Library for Parallel and Accurate MPS Simulation of Quantum Circuits', ['Department of Computer and Information Sciences, Sojo University, 4-22-1 Ikeda, Nishi-ku, Kumamoto, Kumamoto 860-0082, Japan']]\n",
      "\n",
      "['Photoelectron Polarization Vortexes in Strong-Field Ionization', ['Max-Planck-Institut fu ̈r Kernphysik, Saupfercheckweg 1, 69117 Heidelberg, Germany']]\n",
      "\n",
      "['From Large to Small $\\\\mathcal{N}=(4,4)$ Superconformal Surface Defects in Holographic 6d SCFTs', ['STAG Research Centre, Physics and Astronomy, University of Southampton, Highfield, Southampton SO17 1BJ, United Kingdom', 'Department of Chemistry and Physics, SUNY Old Westbury, Old Westbury, NY, United States', 'INFN, sezione di Milano-Bicocca, Piazza della Scienza 3, I-20126 Milano, Italy']]\n",
      "\n",
      "['Evaluating Efficacy of Model Stealing Attacks and Defenses on Quantum Neural Networks', ['The Pennsylvania State University State College, Pennsylvania, USA', 'The Pennsylvania State University State College, Pennsylvania, USA', 'The Pennsylvania State University State College, Pennsylvania, USA']]\n",
      "\n",
      "['An Efficient Quantum Circuit for Block Encoding a Pairing Hamiltonian', ['Department of Mathematics, University of Minnesota, Twin Cities, MN', 'Department of Physics, Iowa State University of Minnesota, Ames, IA', 'Department of Mathematics, University of California, Berkeley, CA', 'Applied Mathematics and Computational Research Division, Lawrence Berkeley National Laboratory, Berkeley, CA']]\n",
      "\n",
      "28\n"
     ]
    }
   ],
   "source": [
    "# Extracting the first and third elements from each tuple and converting the third element into a list of lists\n",
    "reformatted_Un_info_table = [[item[0], item[2]] if isinstance(item[2], list) else [item[0], [item[2]]] for item in un_info_table]\n",
    "\n",
    "for item in reformatted_Un_info_table:\n",
    "    print(item)\n",
    "    print()\n",
    "    \n",
    "print(len(reformatted_Un_info_table))    "
   ]
  },
  {
   "cell_type": "code",
   "execution_count": 13,
   "id": "ddd25d33",
   "metadata": {},
   "outputs": [
    {
     "name": "stdout",
     "output_type": "stream",
     "text": [
      "58\n"
     ]
    }
   ],
   "source": [
    "univ_info_table = []\n",
    "\n",
    "for row in reformatted_Un_info_table:\n",
    "    article_title = row[0]\n",
    "    institutions = row[1]\n",
    "    for institution in institutions:\n",
    "        new_row = [article_title, institution]\n",
    "        univ_info_table.append(new_row)\n",
    "        \n",
    "print(len(univ_info_table))"
   ]
  },
  {
   "cell_type": "code",
   "execution_count": 26,
   "id": "849da1e6",
   "metadata": {},
   "outputs": [
    {
     "name": "stdout",
     "output_type": "stream",
     "text": [
      "57\n"
     ]
    }
   ],
   "source": [
    "### chat gpt added coordinates to every univ\n",
    "\n",
    "univ_info_table_geosp = [\n",
    "    ['Tensor network simulations for non-orientable surfaces', 'Institute for Solid State Physics, University of Tokyo, Kashiwa 277-8581, Japan', 35.9278, 139.4814],\n",
    "    ['Entanglement-assisted classical capacities of some channels acting as radial multipliers on fermion algebras', '6 rue Didier Daurat, 81000 Albi, France', 43.9245, 2.1492],\n",
    "    ['A Quantum-Classical Collaborative Training Architecture Based on Quantum State Fidelity', 'Computer and Information Science Department, Fordham University, New York, USA', 40.8615, -73.8919],\n",
    "    ['A Quantum-Classical Collaborative Training Architecture Based on Quantum State Fidelity', ' Pacific Northwest National Laboratory, Richland, WA, USA', 46.2857, -119.2837],\n",
    "    ['A Quantum-Classical Collaborative Training Architecture Based on Quantum State Fidelity', 'Brookhaven National Laboratory, Upton, NY, USA', 40.8723, -72.8769],\n",
    "    ['A Quantum-Classical Collaborative Training Architecture Based on Quantum State Fidelity', 'IBM Research, Yorktown Heights, NY, USA', 41.1114, -73.8494],\n",
    "    ['Traversable wormholes satisfying energy conditions in $f(Q)$ gravity', 'Physics Department , Sirjan University of Technology, Sirjan 78137, Iran', 29.4522, 55.6787],\n",
    "    ['Energy Extraction via Magnetic Reconnection in Konoplya-Rezzolla-Zhidenko Parameterized Black Holes', 'Institute for Theoretical Physics and Cosmology, Zhejiang University of Technology, China', 30.2741, 120.1551],\n",
    "    ['Energy Extraction via Magnetic Reconnection in Konoplya-Rezzolla-Zhidenko Parameterized Black Holes', 'United Center for Gravitational Wave Physics, Zhejiang University of Technology, Hangzhou 310032, China', 30.2741, 120.1551],\n",
    "    ['The Stability of Gapped Quantum Matter and Error-Correction with Adiabatic Noise', 'Kavli Institute for Theoretical Physics, Santa Barbara, CA 93106, USA', 34.414, -119.8489],\n",
    "    ['The Stability of Gapped Quantum Matter and Error-Correction with Adiabatic Noise', 'Department of Physics, University of California, Santa Barbara, CA 93106, USA', 34.414, -119.8489],\n",
    "    ['Useful variants and perturbations of completely entangled subspaces and spans of unextendible product bases', 'Department of Mathematical Sciences, Indian Institute of Science Education & Research (IISER) Berhampur, Transit campus, Berhampur 760 010, Ganjam, Odisha, India', 19.3067, 84.7782],\n",
    "    ['Useful variants and perturbations of completely entangled subspaces and spans of unextendible product bases', 'Emeritus Scientist, Indian National Science Academy, Bahadur Shah Zafar Marg, New Delhi, 110 002, India', 28.6139, 77.209],\n",
    "    ['A Quick Introduction to Quantum Machine Learning for Non-Practitioners', 'Naval Surface Warfare Center Panama City Division', 30.1671, -85.6512],\n",
    "    ['Dynamical quantum maps for single-qubit gates under non-Markovian phase noise', 'Instituto de F ́ısica Teo ́rica UAM-CSIC, Universidad Auto ́noma de Madrid, Cantoblanco, 28049, Madrid, Spain', 40.5046, -3.6875],\n",
    "    ['Dynamical quantum maps for single-qubit gates under non-Markovian phase noise', 'Universita ̈t Innsbruck, Institut fu ̈r Experimentalphysik, Innsbruck, Austria', 47.2692, 11.4041],\n",
    "    ['Spectral invariance and maximality properties of the frequency spectrum of quantum neural networks', 'Fraunhofer Institute for Industrial Mathematics ITWM, Department for Financial Mathematics Fraunhofer-Platz 1, 67663 Kaiserslautern, Germany', 49.441, 7.7677],\n",
    "    ['Solving Maxwells Equations using Variational Quantum Imaginary Time Evolution', 'Integrated Vehicle Systems, Applied Mathematics Boeing Research & Technology Huntington Beach, CA, 92647, USA', 33.6595, -118.0019],\n",
    "    ['Solving Maxwells Equations using Variational Quantum Imaginary Time Evolution', 'Integrated Vehicle Systems, Applied Mathematics Boeing Research & Technology Huntsville, AL, 35824, USA', 34.7304, -86.5861],\n",
    "    ['Carrollian Amplitudes from Strings', 'Max–Planck–Institut für Physik, Werner–Heisenberg–Institut, 85748 Garching, Germany', 48.2646, 11.6756],\n",
    "    ['Carrollian Amplitudes from Strings', 'Kavli Institute for Theoretical Physics, Santa Barbara, CA 93106, USA', 34.414, -119.8489],\n",
    "    ['Carrollian Amplitudes from Strings', 'Department of Physics, Northeastern University, Boston, MA 02115, USA', 42.3398, -71.0892],\n",
    "    ['Carrollian Amplitudes from Strings', 'Faculty of Physics, University of Warsaw, ul. Pasteura 5, 02-093 Warsaw, Poland', 52.2297, 21.0122],\n",
    "    ['Carrollian Amplitudes from Strings', 'School of Mathematics and Maxwell Institute for Mathematical Sciences, University of Edinburgh, UK', 55.9445, -3.1865],\n",
    "    ['How to fault-tolerantly realize any quantum circuit with local operations', 'School of Computation, Information and Technology, Technical University of Munich', 48.2629, 11.6681],\n",
    "    ['How to fault-tolerantly realize any quantum circuit with local operations', 'Munich Center for Quantum Science and Technology (MCQST), Munich, Germany', 48.1371, 11.5754],\n",
    "    ['Reinforcement learning-assisted quantum architecture search for variational quantum algorithms', 'Institute of Theoretical and Applied Informatics, Polish Academy of Sciences', 52.2413, 20.9984],\n",
    "    ['Mutual information scrambling in Ising spin chain', 'School of Physics, University of Hyderabad, Gachibowli 500046 Telangana', 17.4441, 78.3489],\n",
    "    ['Mutual information scrambling in Ising spin chain', 'Vrije Universiteit Brussel, Brussels 1050 Belgium', 50.821, 4.3848],\n",
    "    ['Mutual information scrambling in Ising spin chain', 'Department of Mathematical Sciences, University of Copenhagen, 2100 Copenhagen, Denmark', 55.6761, 12.5683],\n",
    "    ['Avoiding barren plateaus via Gaussian Mixture Model', 'Institute of Mathematics, Academy of Mathematics and Systems Science, Chinese Academy of Sciences, Beijing 100190, China', 39.9042, 116.4074],\n",
    "    ['Avoiding barren plateaus via Gaussian Mixture Model', 'School of Mathematical Sciences, University of Chinese Academy of Sciences, Beijing 100049, China', 39.9042, 116.4074],\n",
    "    ['Avoiding barren plateaus via Gaussian Mixture Model', 'NCMIS, MDIS, Academy of Mathematics and Systems Science, Chinese Academy of Sciences, Beijing, 100190,China', 39.9042, 116.4074],\n",
    "    ['KetGPT - Dataset Augmentation of Quantum Circuits using Transformers', 'Quantum Machine Learning group, QuTech, Department of Quantum Computer Engineering, Delft University of Technology, The Netherlands', 52.0116, 4.3571],\n",
    "    ['Generalizing measurement-induced phase transitions to information exchange symmetry breaking', 'Mani L. Bhaumik Institute for Theoretical Physics, Department of Physics and Astronomy, University of California at Los Angeles, Los Angeles, CA 90095', 34.0689, -118.4452],\n",
    "    ['Generalizing measurement-induced phase transitions to information exchange symmetry breaking', 'Institute for Physics, Johannes Gutenberg University of Mainz, D-55099 Mainz, Germany', 50.0028, 8.2473],\n",
    "    ['An exact stationary axisymmetric vacuum solution within a metric--affine bumblebee gravity', 'Departamento de F ́ısica, Universidade Federal da Para ́ıba, Caixa Postal 5008, 58051-970, Jo ̃ao Pessoa, Para ́ıba, Brazil.', -7.1201, -34.8829],\n",
    "    ['Accretion discs onto supermassive compact objects: a portal to dark matter physics in active galaxies', 'Departamento de Física, Facultad de Ciencias Exactas y Naturales, Universidad de Buenos Aires, Pabellón I, Ciudad Universitaria,Buenos Aires, Argentina', -34.536, -58.4447],\n",
    "    ['Accretion discs onto supermassive compact objects: a portal to dark matter physics in active galaxies', 'ICRANet, Piazza della Repubblica 10, 65122 Pescara, Italy', 42.4675, 14.2136],\n",
    "    ['Accretion discs onto supermassive compact objects: a portal to dark matter physics in active galaxies', 'Instituto de Astrofísica de La Plata, UNLP & CONICET, Paseo del Bosque, B1900FWA La Plata, Argentina', -34.9147, -57.9374],\n",
    "    ['Accretion discs onto supermassive compact objects: a portal to dark matter physics in active galaxies', 'Instituto Argentino de Radioastronomía (IAR, CONICET/CIC/UNLP), C.C.5, (1894) Villa Elisa, Buenos Aires, Argentina', -34.8811, -58.033],\n",
    "    ['Accretion discs onto supermassive compact objects: a portal to dark matter physics in active galaxies', 'Fac. de Ciencias Astron. y Geofísicas, Universidad Nacional de La Plata, Paseo del Bosque, B1900FWA La Plata, Argentina', -34.9205, -57.9508],\n",
    "    ['Exact black holes in string-inspired Euler-Heisenberg theory', 'Physics Division, School of Applied Mathematical and Physical Sciences, National Technical University of Athens, Zografou Campus, Athens, Greece', 37.9838, 23.7275],\n",
    "    ['Exact black holes in string-inspired Euler-Heisenberg theory', 'Theoretical Particle Physics and Cosmology group, Department of Physics, King’s College London, London WC2R 2LS, UK.', 51.5112, -0.1198],\n",
    "    ['A joint optimization approach of parameterized quantum circuits with a tensor network', 'Molecular Quantum Solutions ApS, Maskinvej 5, 2860 Søborg, Denmark', 55.7386, 12.5056],\n",
    "    ['Recent Extensions of the ZKCM Library for Parallel and Accurate MPS Simulation of Quantum Circuits', 'Department of Computer and Information Sciences, Sojo University, 4-22-1 Ikeda, Nishi-ku, Kumamoto, Kumamoto 860-0082, Japan', 32.7875, 130.7525],\n",
    "    ['Photoelectron Polarization Vortexes in Strong-Field Ionization', 'Max-Planck-Institut fu ̈r Kernphysik, Saupfercheckweg 1, 69117 Heidelberg, Germany', 49.4143, 8.673],\n",
    "    ['From Large to Small $\\\\mathcal{N}=(4,4)$ Superconformal Surface Defects in Holographic 6d SCFTs', 'STAG Research Centre, Physics and Astronomy, University of Southampton, Highfield, Southampton SO17 1BJ, United Kingdom', 50.9341, -1.3959],\n",
    "    ['From Large to Small $\\\\mathcal{N}=(4,4)$ Superconformal Surface Defects in Holographic 6d SCFTs', 'Department of Chemistry and Physics, SUNY Old Westbury, Old Westbury, NY, United States', 40.7702, -73.5813],\n",
    "    ['From Large to Small $\\\\mathcal{N}=(4,4)$ Superconformal Surface Defects in Holographic 6d SCFTs', 'INFN, sezione di Milano-Bicocca, Piazza della Scienza 3, I-20126 Milano, Italy', 45.4981, 9.1775],\n",
    "    ['Evaluating Efficacy of Model Stealing Attacks and Defenses on Quantum Neural Networks', 'The Pennsylvania State University State College, Pennsylvania, USA', 40.7934, -77.8600],\n",
    "    ['Evaluating Efficacy of Model Stealing Attacks and Defenses on Quantum Neural Networks', 'The Pennsylvania State University State College, Pennsylvania, USA', 40.7934, -77.8600],\n",
    "    ['Evaluating Efficacy of Model Stealing Attacks and Defenses on Quantum Neural Networks', 'The Pennsylvania State University State College, Pennsylvania, USA', 40.7934, -77.8600],\n",
    "    ['An Efficient Quantum Circuit for Block Encoding a Pairing Hamiltonian', 'Department of Mathematics, University of Minnesota, Twin Cities, MN', 44.9737, -93.2354],\n",
    "    ['An Efficient Quantum Circuit for Block Encoding a Pairing Hamiltonian', 'Department of Physics, Iowa State University of Minnesota, Ames, IA', 42.0267, -93.6465],\n",
    "    ['An Efficient Quantum Circuit for Block Encoding a Pairing Hamiltonian', 'Department of Mathematics, University of California, Berkeley, CA', 37.8719, -122.2585],\n",
    "    ['An Efficient Quantum Circuit for Block Encoding a Pairing Hamiltonian', 'Applied Mathematics and Computational Research Division, Lawrence Berkeley National Laboratory, Berkeley, CA', 37.8745, -122.2501]\n",
    "]\n",
    "\n",
    "print(len(univ_info_table_geosp))"
   ]
  },
  {
   "cell_type": "code",
   "execution_count": 27,
   "id": "ef3f2ece",
   "metadata": {},
   "outputs": [
    {
     "name": "stdout",
     "output_type": "stream",
     "text": [
      "['Tensor network simulations for non-orientable surfaces', 'Institute for Solid State Physics, University of Tokyo, Kashiwa 277-8581, Japan', 35.9278, 139.4814]\n",
      "['Entanglement-assisted classical capacities of some channels acting as radial multipliers on fermion algebras', '6 rue Didier Daurat, 81000 Albi, France', 43.9245, 2.1492]\n",
      "['A Quantum-Classical Collaborative Training Architecture Based on Quantum State Fidelity', 'Computer and Information Science Department, Fordham University, New York, USA', 40.8615, -73.8919]\n",
      "['A Quantum-Classical Collaborative Training Architecture Based on Quantum State Fidelity', ' Pacific Northwest National Laboratory, Richland, WA, USA', 46.2857, -119.2837]\n",
      "['A Quantum-Classical Collaborative Training Architecture Based on Quantum State Fidelity', 'Brookhaven National Laboratory, Upton, NY, USA', 40.8723, -72.8769]\n",
      "['A Quantum-Classical Collaborative Training Architecture Based on Quantum State Fidelity', 'IBM Research, Yorktown Heights, NY, USA', 41.1114, -73.8494]\n",
      "['Traversable wormholes satisfying energy conditions in $f(Q)$ gravity', 'Physics Department , Sirjan University of Technology, Sirjan 78137, Iran', 29.4522, 55.6787]\n",
      "['Energy Extraction via Magnetic Reconnection in Konoplya-Rezzolla-Zhidenko Parameterized Black Holes', 'Institute for Theoretical Physics and Cosmology, Zhejiang University of Technology, China', 30.2741, 120.1551]\n",
      "['Energy Extraction via Magnetic Reconnection in Konoplya-Rezzolla-Zhidenko Parameterized Black Holes', 'United Center for Gravitational Wave Physics, Zhejiang University of Technology, Hangzhou 310032, China', 30.2741, 120.1551]\n",
      "['The Stability of Gapped Quantum Matter and Error-Correction with Adiabatic Noise', 'Kavli Institute for Theoretical Physics, Santa Barbara, CA 93106, USA', 34.414, -119.8489]\n",
      "['The Stability of Gapped Quantum Matter and Error-Correction with Adiabatic Noise', 'Department of Physics, University of California, Santa Barbara, CA 93106, USA', 34.414, -119.8489]\n",
      "['Useful variants and perturbations of completely entangled subspaces and spans of unextendible product bases', 'Department of Mathematical Sciences, Indian Institute of Science Education & Research (IISER) Berhampur, Transit campus, Berhampur 760 010, Ganjam, Odisha, India', 19.3067, 84.7782]\n",
      "['Useful variants and perturbations of completely entangled subspaces and spans of unextendible product bases', 'Emeritus Scientist, Indian National Science Academy, Bahadur Shah Zafar Marg, New Delhi, 110 002, India', 28.6139, 77.209]\n",
      "['A Quick Introduction to Quantum Machine Learning for Non-Practitioners', 'Naval Surface Warfare Center Panama City Division', 30.1671, -85.6512]\n",
      "['Dynamical quantum maps for single-qubit gates under non-Markovian phase noise', 'Instituto de F ́ısica Teo ́rica UAM-CSIC, Universidad Auto ́noma de Madrid, Cantoblanco, 28049, Madrid, Spain', 40.5046, -3.6875]\n",
      "['Dynamical quantum maps for single-qubit gates under non-Markovian phase noise', 'Universita ̈t Innsbruck, Institut fu ̈r Experimentalphysik, Innsbruck, Austria', 47.2692, 11.4041]\n",
      "['Spectral invariance and maximality properties of the frequency spectrum of quantum neural networks', 'Fraunhofer Institute for Industrial Mathematics ITWM, Department for Financial Mathematics Fraunhofer-Platz 1, 67663 Kaiserslautern, Germany', 49.441, 7.7677]\n",
      "['Solving Maxwells Equations using Variational Quantum Imaginary Time Evolution', 'Integrated Vehicle Systems, Applied Mathematics Boeing Research & Technology Huntington Beach, CA, 92647, USA', 33.6595, -118.0019]\n",
      "['Solving Maxwells Equations using Variational Quantum Imaginary Time Evolution', 'Integrated Vehicle Systems, Applied Mathematics Boeing Research & Technology Huntsville, AL, 35824, USA', 34.7304, -86.5861]\n",
      "['Carrollian Amplitudes from Strings', 'Max–Planck–Institut für Physik, Werner–Heisenberg–Institut, 85748 Garching, Germany', 48.2646, 11.6756]\n",
      "['Carrollian Amplitudes from Strings', 'Kavli Institute for Theoretical Physics, Santa Barbara, CA 93106, USA', 34.414, -119.8489]\n",
      "['Carrollian Amplitudes from Strings', 'Department of Physics, Northeastern University, Boston, MA 02115, USA', 42.3398, -71.0892]\n",
      "['Carrollian Amplitudes from Strings', 'Faculty of Physics, University of Warsaw, ul. Pasteura 5, 02-093 Warsaw, Poland', 52.2297, 21.0122]\n",
      "['Carrollian Amplitudes from Strings', 'School of Mathematics and Maxwell Institute for Mathematical Sciences, University of Edinburgh, UK', 55.9445, -3.1865]\n",
      "['How to fault-tolerantly realize any quantum circuit with local operations', 'School of Computation, Information and Technology, Technical University of Munich', 48.2629, 11.6681]\n",
      "['How to fault-tolerantly realize any quantum circuit with local operations', 'Munich Center for Quantum Science and Technology (MCQST), Munich, Germany', 48.1371, 11.5754]\n",
      "['Reinforcement learning-assisted quantum architecture search for variational quantum algorithms', 'Institute of Theoretical and Applied Informatics, Polish Academy of Sciences', 52.2413, 20.9984]\n",
      "['Mutual information scrambling in Ising spin chain', 'School of Physics, University of Hyderabad, Gachibowli 500046 Telangana', 17.4441, 78.3489]\n",
      "['Mutual information scrambling in Ising spin chain', 'Vrije Universiteit Brussel, Brussels 1050 Belgium', 50.821, 4.3848]\n",
      "['Mutual information scrambling in Ising spin chain', 'Department of Mathematical Sciences, University of Copenhagen, 2100 Copenhagen, Denmark', 55.6761, 12.5683]\n",
      "['Avoiding barren plateaus via Gaussian Mixture Model', 'Institute of Mathematics, Academy of Mathematics and Systems Science, Chinese Academy of Sciences, Beijing 100190, China', 39.9042, 116.4074]\n",
      "['Avoiding barren plateaus via Gaussian Mixture Model', 'School of Mathematical Sciences, University of Chinese Academy of Sciences, Beijing 100049, China', 39.9042, 116.4074]\n",
      "['Avoiding barren plateaus via Gaussian Mixture Model', 'NCMIS, MDIS, Academy of Mathematics and Systems Science, Chinese Academy of Sciences, Beijing, 100190,China', 39.9042, 116.4074]\n",
      "['KetGPT - Dataset Augmentation of Quantum Circuits using Transformers', 'Quantum Machine Learning group, QuTech, Department of Quantum Computer Engineering, Delft University of Technology, The Netherlands', 52.0116, 4.3571]\n",
      "['Generalizing measurement-induced phase transitions to information exchange symmetry breaking', 'Mani L. Bhaumik Institute for Theoretical Physics, Department of Physics and Astronomy, University of California at Los Angeles, Los Angeles, CA 90095', 34.0689, -118.4452]\n",
      "['Generalizing measurement-induced phase transitions to information exchange symmetry breaking', 'Institute for Physics, Johannes Gutenberg University of Mainz, D-55099 Mainz, Germany', 50.0028, 8.2473]\n",
      "['An exact stationary axisymmetric vacuum solution within a metric--affine bumblebee gravity', 'Departamento de F ́ısica, Universidade Federal da Para ́ıba, Caixa Postal 5008, 58051-970, Jo ̃ao Pessoa, Para ́ıba, Brazil.', -7.1201, -34.8829]\n",
      "['Accretion discs onto supermassive compact objects: a portal to dark matter physics in active galaxies', 'Departamento de Física, Facultad de Ciencias Exactas y Naturales, Universidad de Buenos Aires, Pabellón I, Ciudad Universitaria,Buenos Aires, Argentina', -34.536, -58.4447]\n",
      "['Accretion discs onto supermassive compact objects: a portal to dark matter physics in active galaxies', 'ICRANet, Piazza della Repubblica 10, 65122 Pescara, Italy', 42.4675, 14.2136]\n",
      "['Accretion discs onto supermassive compact objects: a portal to dark matter physics in active galaxies', 'Instituto de Astrofísica de La Plata, UNLP & CONICET, Paseo del Bosque, B1900FWA La Plata, Argentina', -34.9147, -57.9374]\n",
      "['Accretion discs onto supermassive compact objects: a portal to dark matter physics in active galaxies', 'Instituto Argentino de Radioastronomía (IAR, CONICET/CIC/UNLP), C.C.5, (1894) Villa Elisa, Buenos Aires, Argentina', -34.8811, -58.033]\n",
      "['Accretion discs onto supermassive compact objects: a portal to dark matter physics in active galaxies', 'Fac. de Ciencias Astron. y Geofísicas, Universidad Nacional de La Plata, Paseo del Bosque, B1900FWA La Plata, Argentina', -34.9205, -57.9508]\n",
      "['Exact black holes in string-inspired Euler-Heisenberg theory', 'Physics Division, School of Applied Mathematical and Physical Sciences, National Technical University of Athens, Zografou Campus, Athens, Greece', 37.9838, 23.7275]\n",
      "['Exact black holes in string-inspired Euler-Heisenberg theory', 'Theoretical Particle Physics and Cosmology group, Department of Physics, King’s College London, London WC2R 2LS, UK.', 51.5112, -0.1198]\n",
      "['A joint optimization approach of parameterized quantum circuits with a tensor network', 'Molecular Quantum Solutions ApS, Maskinvej 5, 2860 Søborg, Denmark', 55.7386, 12.5056]\n",
      "['Recent Extensions of the ZKCM Library for Parallel and Accurate MPS Simulation of Quantum Circuits', 'Department of Computer and Information Sciences, Sojo University, 4-22-1 Ikeda, Nishi-ku, Kumamoto, Kumamoto 860-0082, Japan', 32.7875, 130.7525]\n",
      "['Photoelectron Polarization Vortexes in Strong-Field Ionization', 'Max-Planck-Institut fu ̈r Kernphysik, Saupfercheckweg 1, 69117 Heidelberg, Germany', 49.4143, 8.673]\n",
      "['From Large to Small $\\\\mathcal{N}=(4,4)$ Superconformal Surface Defects in Holographic 6d SCFTs', 'STAG Research Centre, Physics and Astronomy, University of Southampton, Highfield, Southampton SO17 1BJ, United Kingdom', 50.9341, -1.3959]\n",
      "['From Large to Small $\\\\mathcal{N}=(4,4)$ Superconformal Surface Defects in Holographic 6d SCFTs', 'Department of Chemistry and Physics, SUNY Old Westbury, Old Westbury, NY, United States', 40.7702, -73.5813]\n",
      "['From Large to Small $\\\\mathcal{N}=(4,4)$ Superconformal Surface Defects in Holographic 6d SCFTs', 'INFN, sezione di Milano-Bicocca, Piazza della Scienza 3, I-20126 Milano, Italy', 45.4981, 9.1775]\n",
      "['Evaluating Efficacy of Model Stealing Attacks and Defenses on Quantum Neural Networks', 'The Pennsylvania State University State College, Pennsylvania, USA', 40.7934, -77.86]\n",
      "['An Efficient Quantum Circuit for Block Encoding a Pairing Hamiltonian', 'Department of Mathematics, University of Minnesota, Twin Cities, MN', 44.9737, -93.2354]\n",
      "['An Efficient Quantum Circuit for Block Encoding a Pairing Hamiltonian', 'Department of Physics, Iowa State University of Minnesota, Ames, IA', 42.0267, -93.6465]\n",
      "['An Efficient Quantum Circuit for Block Encoding a Pairing Hamiltonian', 'Department of Mathematics, University of California, Berkeley, CA', 37.8719, -122.2585]\n",
      "['An Efficient Quantum Circuit for Block Encoding a Pairing Hamiltonian', 'Applied Mathematics and Computational Research Division, Lawrence Berkeley National Laboratory, Berkeley, CA', 37.8745, -122.2501]\n"
     ]
    }
   ],
   "source": [
    "# Remove duplicates\n",
    "unique_entries = set()\n",
    "filtered_table = []\n",
    "for row in univ_info_table_geosp:\n",
    "    # Convert each row into a tuple\n",
    "    row_tuple = tuple(row)\n",
    "    # Check if the tuple is already in the set\n",
    "    if row_tuple not in unique_entries:\n",
    "        # Add the tuple to the set and the filtered table\n",
    "        unique_entries.add(row_tuple)\n",
    "        filtered_table.append(list(row_tuple))\n",
    "\n",
    "# Display the filtered table\n",
    "for row in filtered_table:\n",
    "    print(row)"
   ]
  },
  {
   "cell_type": "code",
   "execution_count": 30,
   "id": "6e078160",
   "metadata": {},
   "outputs": [],
   "source": [
    "import pandas as pd\n",
    "\n",
    "df = pd.DataFrame(filtered_table, columns=['Title', 'Location', 'Latitude', 'Longitude'])\n",
    "\n",
    "df\n",
    "\n",
    "# Assuming df is your DataFrame\n",
    "df.to_csv('03_04_23_univ_adresses.csv', index=True)"
   ]
  },
  {
   "cell_type": "code",
   "execution_count": null,
   "id": "28f0c787",
   "metadata": {},
   "outputs": [],
   "source": []
  }
 ],
 "metadata": {
  "kernelspec": {
   "display_name": "Python 3 (ipykernel)",
   "language": "python",
   "name": "python3"
  },
  "language_info": {
   "codemirror_mode": {
    "name": "ipython",
    "version": 3
   },
   "file_extension": ".py",
   "mimetype": "text/x-python",
   "name": "python",
   "nbconvert_exporter": "python",
   "pygments_lexer": "ipython3",
   "version": "3.9.13"
  }
 },
 "nbformat": 4,
 "nbformat_minor": 5
}
